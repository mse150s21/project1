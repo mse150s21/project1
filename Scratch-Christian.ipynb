{
 "cells": [
  {
   "cell_type": "code",
   "execution_count": 1,
   "metadata": {},
   "outputs": [
    {
     "name": "stdout",
     "output_type": "stream",
     "text": [
      "2710726.3671227493\n",
      "815763.7676173167\n"
     ]
    }
   ],
   "source": [
    "import numpy\n",
    "import scipy as sp\n",
    "from scipy import stats\n",
    "moduli = []\n",
    "def get_modulus(fname):\n",
    "    a = numpy.loadtxt(fname,skiprows=1,delimiter=',')\n",
    "    \n",
    "    x = a[:,0]\n",
    "\n",
    "    y = a[:,1]\n",
    "\n",
    "    plas = []\n",
    "\n",
    "    for length in range(len(a)):\n",
    "        plas.append(length)\n",
    "        if length > 8:\n",
    "            r = sp.stats.linregress(x[0:length],y[0:length])\n",
    "            if r.rvalue < 0.999:\n",
    "                break\n",
    "\n",
    "    stop = int(len(plas))\n",
    "\n",
    "    xcrop, ycrop = x[0:stop],y[0:stop]\n",
    "    #shortening the data set to the Modulus Data\n",
    "\n",
    "    xfit,yfit = numpy.polyfit(xcrop,ycrop,1)\n",
    "    #fitting a first-order polynomial to the Modulus data\n",
    "\n",
    "    linfit = numpy.poly1d((xfit,yfit))                 \n",
    "\n",
    "    YMod = -float(numpy.diff(linfit))\n",
    "    #differentiating the polynomial provides the Modulus\n",
    "    return YMod\n",
    "for i in range(999):\n",
    "    fname = \"samples/\"+str(i)+\".raw\"\n",
    "    moduli.append(get_modulus(fname))\n",
    "print(numpy.average(moduli))\n",
    "print(numpy.std(moduli))"
   ]
  },
  {
   "cell_type": "code",
   "execution_count": null,
   "metadata": {
    "collapsed": true
   },
   "outputs": [],
   "source": []
  }
 ],
 "metadata": {
  "anaconda-cloud": {},
  "kernelspec": {
   "display_name": "Python 3",
   "language": "python",
   "name": "python3"
  },
  "language_info": {
   "codemirror_mode": {
    "name": "ipython",
    "version": 3
   },
   "file_extension": ".py",
   "mimetype": "text/x-python",
   "name": "python",
   "nbconvert_exporter": "python",
   "pygments_lexer": "ipython3",
   "version": "3.8.5"
  }
 },
 "nbformat": 4,
 "nbformat_minor": 1
}
